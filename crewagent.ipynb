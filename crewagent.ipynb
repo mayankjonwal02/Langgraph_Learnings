{
 "cells": [
  {
   "cell_type": "code",
   "execution_count": 2,
   "metadata": {},
   "outputs": [],
   "source": [
    "import dotenv\n",
    "groq_api_key = dotenv.get_key('.env', 'GROQ_API_KEY')\n",
    "from langchain_groq import ChatGroq\n",
    "llm = ChatGroq(groq_api_key =  groq_api_key,model_name = \"Llama3-70b-8192\")"
   ]
  },
  {
   "cell_type": "code",
   "execution_count": null,
   "metadata": {},
   "outputs": [
    {
     "ename": "KeyError",
     "evalue": "'OPENAI_API_KEY'",
     "output_type": "error",
     "traceback": [
      "\u001b[31m---------------------------------------------------------------------------\u001b[39m",
      "\u001b[31mKeyError\u001b[39m                                  Traceback (most recent call last)",
      "\u001b[36mCell\u001b[39m\u001b[36m \u001b[39m\u001b[32mIn[1]\u001b[39m\u001b[32m, line 3\u001b[39m\n\u001b[32m      1\u001b[39m \u001b[38;5;28;01mfrom\u001b[39;00m\u001b[38;5;250m \u001b[39m\u001b[34;01mcrewai_tools\u001b[39;00m\u001b[38;5;250m \u001b[39m\u001b[38;5;28;01mimport\u001b[39;00m WebsiteSearchTool\n\u001b[32m----> \u001b[39m\u001b[32m3\u001b[39m web_search_tool = \u001b[43mWebsiteSearchTool\u001b[49m\u001b[43m(\u001b[49m\u001b[43m)\u001b[49m\n",
      "\u001b[36mFile \u001b[39m\u001b[32me:\\CustomPythonEnvironments\\envs\\AgenticAiEnv\\Lib\\site-packages\\crewai_tools\\tools\\website_search\\website_search_tool.py:32\u001b[39m, in \u001b[36mWebsiteSearchTool.__init__\u001b[39m\u001b[34m(self, website, **kwargs)\u001b[39m\n\u001b[32m     31\u001b[39m \u001b[38;5;28;01mdef\u001b[39;00m\u001b[38;5;250m \u001b[39m\u001b[34m__init__\u001b[39m(\u001b[38;5;28mself\u001b[39m, website: Optional[\u001b[38;5;28mstr\u001b[39m] = \u001b[38;5;28;01mNone\u001b[39;00m, **kwargs):\n\u001b[32m---> \u001b[39m\u001b[32m32\u001b[39m     \u001b[38;5;28;43msuper\u001b[39;49m\u001b[43m(\u001b[49m\u001b[43m)\u001b[49m\u001b[43m.\u001b[49m\u001b[34;43m__init__\u001b[39;49m\u001b[43m(\u001b[49m\u001b[43m*\u001b[49m\u001b[43m*\u001b[49m\u001b[43mkwargs\u001b[49m\u001b[43m)\u001b[49m\n\u001b[32m     33\u001b[39m     \u001b[38;5;28;01mif\u001b[39;00m website \u001b[38;5;129;01mis\u001b[39;00m \u001b[38;5;129;01mnot\u001b[39;00m \u001b[38;5;28;01mNone\u001b[39;00m:\n\u001b[32m     34\u001b[39m         kwargs[\u001b[33m\"\u001b[39m\u001b[33mdata_type\u001b[39m\u001b[33m\"\u001b[39m] = DataType.WEB_PAGE\n",
      "    \u001b[31m[... skipping hidden 1 frame]\u001b[39m\n",
      "\u001b[36mFile \u001b[39m\u001b[32me:\\CustomPythonEnvironments\\envs\\AgenticAiEnv\\Lib\\site-packages\\crewai_tools\\tools\\rag\\rag_tool.py:46\u001b[39m, in \u001b[36mRagTool._set_default_adapter\u001b[39m\u001b[34m(self)\u001b[39m\n\u001b[32m     42\u001b[39m     \u001b[38;5;28;01mfrom\u001b[39;00m\u001b[38;5;250m \u001b[39m\u001b[34;01membedchain\u001b[39;00m\u001b[38;5;250m \u001b[39m\u001b[38;5;28;01mimport\u001b[39;00m App\n\u001b[32m     44\u001b[39m     \u001b[38;5;28;01mfrom\u001b[39;00m\u001b[38;5;250m \u001b[39m\u001b[34;01mcrewai_tools\u001b[39;00m\u001b[34;01m.\u001b[39;00m\u001b[34;01madapters\u001b[39;00m\u001b[34;01m.\u001b[39;00m\u001b[34;01membedchain_adapter\u001b[39;00m\u001b[38;5;250m \u001b[39m\u001b[38;5;28;01mimport\u001b[39;00m EmbedchainAdapter\n\u001b[32m---> \u001b[39m\u001b[32m46\u001b[39m     app = App.from_config(config=\u001b[38;5;28mself\u001b[39m.config) \u001b[38;5;28;01mif\u001b[39;00m \u001b[38;5;28mself\u001b[39m.config \u001b[38;5;28;01melse\u001b[39;00m \u001b[43mApp\u001b[49m\u001b[43m(\u001b[49m\u001b[43m)\u001b[49m\n\u001b[32m     47\u001b[39m     \u001b[38;5;28mself\u001b[39m.adapter = EmbedchainAdapter(\n\u001b[32m     48\u001b[39m         embedchain_app=app, summarize=\u001b[38;5;28mself\u001b[39m.summarize\n\u001b[32m     49\u001b[39m     )\n\u001b[32m     51\u001b[39m \u001b[38;5;28;01mreturn\u001b[39;00m \u001b[38;5;28mself\u001b[39m\n",
      "\u001b[36mFile \u001b[39m\u001b[32me:\\CustomPythonEnvironments\\envs\\AgenticAiEnv\\Lib\\site-packages\\embedchain\\app.py:121\u001b[39m, in \u001b[36mApp.__init__\u001b[39m\u001b[34m(self, id, name, config, db, embedding_model, llm, config_data, auto_deploy, chunker, cache_config, memory_config, log_level)\u001b[39m\n\u001b[32m    118\u001b[39m \u001b[38;5;28;01mif\u001b[39;00m name \u001b[38;5;129;01mis\u001b[39;00m \u001b[38;5;129;01mnot\u001b[39;00m \u001b[38;5;28;01mNone\u001b[39;00m:\n\u001b[32m    119\u001b[39m     \u001b[38;5;28mself\u001b[39m.name = name\n\u001b[32m--> \u001b[39m\u001b[32m121\u001b[39m \u001b[38;5;28mself\u001b[39m.embedding_model = embedding_model \u001b[38;5;129;01mor\u001b[39;00m \u001b[43mOpenAIEmbedder\u001b[49m\u001b[43m(\u001b[49m\u001b[43m)\u001b[49m\n\u001b[32m    122\u001b[39m \u001b[38;5;28mself\u001b[39m.db = db \u001b[38;5;129;01mor\u001b[39;00m ChromaDB()\n\u001b[32m    123\u001b[39m \u001b[38;5;28mself\u001b[39m.llm = llm \u001b[38;5;129;01mor\u001b[39;00m OpenAILlm()\n",
      "\u001b[36mFile \u001b[39m\u001b[32me:\\CustomPythonEnvironments\\envs\\AgenticAiEnv\\Lib\\site-packages\\embedchain\\embedder\\openai.py:18\u001b[39m, in \u001b[36mOpenAIEmbedder.__init__\u001b[39m\u001b[34m(self, config)\u001b[39m\n\u001b[32m     15\u001b[39m \u001b[38;5;28;01mif\u001b[39;00m \u001b[38;5;28mself\u001b[39m.config.model \u001b[38;5;129;01mis\u001b[39;00m \u001b[38;5;28;01mNone\u001b[39;00m:\n\u001b[32m     16\u001b[39m     \u001b[38;5;28mself\u001b[39m.config.model = \u001b[33m\"\u001b[39m\u001b[33mtext-embedding-ada-002\u001b[39m\u001b[33m\"\u001b[39m\n\u001b[32m---> \u001b[39m\u001b[32m18\u001b[39m api_key = \u001b[38;5;28mself\u001b[39m.config.api_key \u001b[38;5;129;01mor\u001b[39;00m \u001b[43mos\u001b[49m\u001b[43m.\u001b[49m\u001b[43menviron\u001b[49m\u001b[43m[\u001b[49m\u001b[33;43m\"\u001b[39;49m\u001b[33;43mOPENAI_API_KEY\u001b[39;49m\u001b[33;43m\"\u001b[39;49m\u001b[43m]\u001b[49m\n\u001b[32m     19\u001b[39m api_base = \u001b[38;5;28mself\u001b[39m.config.api_base \u001b[38;5;129;01mor\u001b[39;00m os.environ.get(\u001b[33m\"\u001b[39m\u001b[33mOPENAI_API_BASE\u001b[39m\u001b[33m\"\u001b[39m)\n\u001b[32m     21\u001b[39m \u001b[38;5;28;01mif\u001b[39;00m api_key \u001b[38;5;129;01mis\u001b[39;00m \u001b[38;5;28;01mNone\u001b[39;00m \u001b[38;5;129;01mand\u001b[39;00m os.getenv(\u001b[33m\"\u001b[39m\u001b[33mOPENAI_ORGANIZATION\u001b[39m\u001b[33m\"\u001b[39m) \u001b[38;5;129;01mis\u001b[39;00m \u001b[38;5;28;01mNone\u001b[39;00m:\n",
      "\u001b[36mFile \u001b[39m\u001b[32m<frozen os>:714\u001b[39m, in \u001b[36m__getitem__\u001b[39m\u001b[34m(self, key)\u001b[39m\n",
      "\u001b[31mKeyError\u001b[39m: 'OPENAI_API_KEY'"
     ]
    }
   ],
   "source": [
    "from crewai_tools import WebsiteSearchTool\n",
    "from embedchain import App \n",
    "from embedchain.embedder.google\n",
    "\n",
    "\n",
    "web_search_tool = WebsiteSearchTool()"
   ]
  },
  {
   "cell_type": "code",
   "execution_count": null,
   "metadata": {},
   "outputs": [],
   "source": []
  }
 ],
 "metadata": {
  "kernelspec": {
   "display_name": "AgenticAiEnv",
   "language": "python",
   "name": "python3"
  },
  "language_info": {
   "codemirror_mode": {
    "name": "ipython",
    "version": 3
   },
   "file_extension": ".py",
   "mimetype": "text/x-python",
   "name": "python",
   "nbconvert_exporter": "python",
   "pygments_lexer": "ipython3",
   "version": "3.12.9"
  }
 },
 "nbformat": 4,
 "nbformat_minor": 2
}
