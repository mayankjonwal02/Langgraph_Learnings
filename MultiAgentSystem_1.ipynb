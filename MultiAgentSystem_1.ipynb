{
 "cells": [
  {
   "cell_type": "code",
   "execution_count": 28,
   "metadata": {},
   "outputs": [],
   "source": [
    "import os \n",
    "import dotenv\n",
    "groq_api_key = dotenv.get_key('.env', 'GROQ_API_KEY')"
   ]
  },
  {
   "cell_type": "code",
   "execution_count": 29,
   "metadata": {},
   "outputs": [],
   "source": [
    "from langchain_groq import ChatGroq\n",
    "llm = ChatGroq(groq_api_key =  groq_api_key,model_name = \"Llama3-70b-8192\")"
   ]
  },
  {
   "cell_type": "code",
   "execution_count": 30,
   "metadata": {},
   "outputs": [],
   "source": [
    "from langgraph_supervisor import create_supervisor\n",
    "from langgraph.prebuilt import create_react_agent\n",
    "\n"
   ]
  },
  {
   "cell_type": "code",
   "execution_count": 31,
   "metadata": {},
   "outputs": [],
   "source": [
    "from langchain_community.tools import DuckDuckGoSearchRun\n",
    "\n",
    "def search_duckduckgo(query:str):\n",
    "    \"\"\"Searches DuckDuckGo Using Langchain's DuckDuckGoSearchRun Tool\"\"\"\n",
    "    search = DuckDuckGoSearchRun()\n",
    "    return search.invoke(query)\n",
    "\n"
   ]
  },
  {
   "cell_type": "code",
   "execution_count": 32,
   "metadata": {},
   "outputs": [
    {
     "name": "stdout",
     "output_type": "stream",
     "text": [
      "Delhi is a city and national capital territory in north-central India. The city of Delhi actually consists of two components: Old Delhi, in the north, the historic city; and New Delhi, in the south, since 1947 the capital of India, built in the first part of the 20th century as the capital of British India. India is a diverse and populous country in South Asia with a rich cultural and religious heritage. Its capital is New Delhi, a modern city built in the 20th century. Learn more about India's history, map, population, economy, and festivals. Find out the names, capitals, and languages of India's 28 states and 8 union territories. Learn about the history, culture, and geography of each region with key facts and insights. India, officially the Republic of India, [j] [21] is a country in South Asia. ... Indian royalty, big and small, and the temples they patronised drew citizens in great numbers to the capital cities, which became economic hubs as well. [114] Learn the names and capitals of 28 states and 8 union territories in India, along with their formation dates and official languages. Find out the special features, differences, and facts of each state and union territory.\n"
     ]
    }
   ],
   "source": [
    "print(search_duckduckgo(\"what is the capital of india\"))"
   ]
  },
  {
   "cell_type": "code",
   "execution_count": 33,
   "metadata": {},
   "outputs": [],
   "source": [
    "def add(a:float , b:float):\n",
    "    \"\"\"Add Two numbers\"\"\"\n",
    "    return a+b\n",
    "\n",
    "def multiply(a:float , b:float):\n",
    "    \"\"\"Multiply two numbers\"\"\"\n",
    "    return a*b"
   ]
  },
  {
   "cell_type": "code",
   "execution_count": 34,
   "metadata": {},
   "outputs": [],
   "source": [
    "math_agent = create_react_agent(\n",
    "    model=llm,\n",
    "    tools = [add,multiply],\n",
    "    name=\"math_expert\",\n",
    "    prompt=\"You are a math expert . Always use one tool at a time .\"\n",
    ")"
   ]
  },
  {
   "cell_type": "code",
   "execution_count": 35,
   "metadata": {},
   "outputs": [],
   "source": [
    "research_agent = create_react_agent(\n",
    "    model=llm,\n",
    "    tools = [search_duckduckgo],\n",
    "    name=\"research_agent\",\n",
    "    prompt=\"You are a world class researcher with access to web search\"\n",
    ")"
   ]
  },
  {
   "cell_type": "code",
   "execution_count": 36,
   "metadata": {},
   "outputs": [],
   "source": [
    "workflow = create_supervisor(\n",
    "    model=llm,\n",
    "    agents = [math_agent,research_agent],\n",
    "    prompt=(\"You are a supervisor . You are responsible for the execution of the following workflow .\\n\\n\"\n",
    "            \"for events and information gathering use the research_agent .\\n\\n\"\n",
    "            \"for mathematical operations use the math_agent .\\n\\n\")\n",
    ")"
   ]
  },
  {
   "cell_type": "code",
   "execution_count": 37,
   "metadata": {},
   "outputs": [],
   "source": [
    "app = workflow.compile()\n"
   ]
  },
  {
   "cell_type": "code",
   "execution_count": 38,
   "metadata": {},
   "outputs": [],
   "source": [
    "results = app.invoke({\n",
    "    \"messages\":[\n",
    "        {\n",
    "            \"role\":\"user\",\n",
    "            \"content\":\"Who is elon musk?\"\n",
    "        }\n",
    "    ]\n",
    "})"
   ]
  },
  {
   "cell_type": "code",
   "execution_count": 39,
   "metadata": {},
   "outputs": [
    {
     "name": "stdout",
     "output_type": "stream",
     "text": [
      "================================\u001b[1m Human Message \u001b[0m=================================\n",
      "\n",
      "Who is elon musk?\n",
      "==================================\u001b[1m Ai Message \u001b[0m==================================\n",
      "Name: supervisor\n",
      "Tool Calls:\n",
      "  transfer_to_research_agent (call_39p9)\n",
      " Call ID: call_39p9\n",
      "  Args:\n",
      "=================================\u001b[1m Tool Message \u001b[0m=================================\n",
      "Name: transfer_to_research_agent\n",
      "\n",
      "Successfully transferred to research_agent\n",
      "==================================\u001b[1m Ai Message \u001b[0m==================================\n",
      "Name: research_agent\n",
      "\n",
      "Elon Musk is a billionaire entrepreneur who has founded or co-founded several companies, including Zip2, xAI, and others, spanning various industries such as space exploration, AI, and social media. He is known for his ambitious projects, including his goal to reduce global warming, and has been involved in various controversies, including overstepping his authority and taking a hit to his net worth due to market fluctuations. He is also a father of 12 children and has expressed concerns about population collapse.\n",
      "==================================\u001b[1m Ai Message \u001b[0m==================================\n",
      "Name: research_agent\n",
      "\n",
      "Transferring back to supervisor\n",
      "Tool Calls:\n",
      "  transfer_back_to_supervisor (cc6683b6-5b14-4b3f-acc3-81298ff1852e)\n",
      " Call ID: cc6683b6-5b14-4b3f-acc3-81298ff1852e\n",
      "  Args:\n",
      "=================================\u001b[1m Tool Message \u001b[0m=================================\n",
      "Name: transfer_back_to_supervisor\n",
      "\n",
      "Successfully transferred back to supervisor\n",
      "==================================\u001b[1m Ai Message \u001b[0m==================================\n",
      "Name: supervisor\n",
      "\n",
      "That's the end of the workflow. I'll respond directly without using a tool. If you have any more questions or need further assistance, feel free to ask!\n"
     ]
    }
   ],
   "source": [
    "for m in results[\"messages\"]:\n",
    "    m.pretty_print()"
   ]
  },
  {
   "cell_type": "code",
   "execution_count": 40,
   "metadata": {},
   "outputs": [],
   "source": [
    "query = {\n",
    "    \"messages\":[\n",
    "        {\n",
    "            \"role\":\"user\",\n",
    "            \"content\":\"What is the weather in delhi  today , multiply it by 2 and add 5\"\n",
    "        }\n",
    "    ]\n",
    "}"
   ]
  },
  {
   "cell_type": "code",
   "execution_count": 46,
   "metadata": {},
   "outputs": [
    {
     "name": "stdout",
     "output_type": "stream",
     "text": [
      "content='What is the weather in delhi  today , multiply it by 2 and add 5' additional_kwargs={} response_metadata={} id='6bf55bd7-18ef-4c9a-8fe7-34b2246576cc'\n",
      "content='' additional_kwargs={'tool_calls': [{'id': 'call_6sp7', 'function': {'arguments': '{\"query\":\"what is the weather in delhi today\"}', 'name': 'transfer_to_research_agent'}, 'type': 'function'}]} response_metadata={'token_usage': {'completion_tokens': 53, 'prompt_tokens': 988, 'total_tokens': 1041, 'completion_time': 0.180375379, 'prompt_time': 0.036044757, 'queue_time': 0.054583565, 'total_time': 0.216420136}, 'model_name': 'Llama3-70b-8192', 'system_fingerprint': 'fp_2e0feca3c9', 'finish_reason': 'tool_calls', 'logprobs': None} name='supervisor' id='run-a2e534e1-a293-446a-bb6a-68700934bdad-0' tool_calls=[{'name': 'transfer_to_research_agent', 'args': {'query': 'what is the weather in delhi today'}, 'id': 'call_6sp7', 'type': 'tool_call'}] usage_metadata={'input_tokens': 988, 'output_tokens': 53, 'total_tokens': 1041}\n",
      "content='Successfully transferred to research_agent' name='transfer_to_research_agent' id='97a3bda2-b30d-461e-9645-767c3950c53f' tool_call_id='call_6sp7'\n",
      "content='The temperature in Delhi today is 20°C. Multiplying it by 2 gives 40°C. Adding 5 to that result gives 45°C.' additional_kwargs={} response_metadata={'token_usage': {'completion_tokens': 33, 'prompt_tokens': 2818, 'total_tokens': 2851, 'completion_time': 0.181781827, 'prompt_time': 0.099636919, 'queue_time': -0.31428376, 'total_time': 0.281418746}, 'model_name': 'Llama3-70b-8192', 'system_fingerprint': 'fp_2e0feca3c9', 'finish_reason': 'stop', 'logprobs': None} name='research_agent' id='run-489fafdb-0cce-4805-a45a-010f47e19cb3-0' usage_metadata={'input_tokens': 2818, 'output_tokens': 33, 'total_tokens': 2851}\n",
      "content='Transferring back to supervisor' additional_kwargs={} response_metadata={} name='research_agent' id='27cb33b9-da12-48eb-8c87-c3a616e1d496' tool_calls=[{'name': 'transfer_back_to_supervisor', 'args': {}, 'id': 'c7b3aca0-5ea3-4f88-b092-02b98a5a5dc3', 'type': 'tool_call'}]\n",
      "content='Successfully transferred back to supervisor' name='transfer_back_to_supervisor' id='7994849e-17ea-4619-bb21-a90aeda317de' tool_call_id='c7b3aca0-5ea3-4f88-b092-02b98a5a5dc3'\n",
      "content='' additional_kwargs={'tool_calls': [{'id': 'call_xkqg', 'function': {'arguments': '{\"query\":\"45\"}', 'name': 'transfer_to_math_expert'}, 'type': 'function'}]} response_metadata={'token_usage': {'completion_tokens': 36, 'prompt_tokens': 1221, 'total_tokens': 1257, 'completion_time': 0.124896536, 'prompt_time': 0.042223879, 'queue_time': 0.063895759, 'total_time': 0.167120415}, 'model_name': 'Llama3-70b-8192', 'system_fingerprint': 'fp_2e0feca3c9', 'finish_reason': 'tool_calls', 'logprobs': None} name='supervisor' id='run-12df04b1-b7f8-4dbc-9f78-f628bf9d1e94-0' tool_calls=[{'name': 'transfer_to_math_expert', 'args': {'query': '45'}, 'id': 'call_xkqg', 'type': 'tool_call'}] usage_metadata={'input_tokens': 1221, 'output_tokens': 36, 'total_tokens': 1257}\n",
      "content='Successfully transferred to math_expert' name='transfer_to_math_expert' id='54dc7b7c-34e3-4c77-b60b-382daa7aa1f4' tool_call_id='call_xkqg'\n",
      "content='The final answer is 95.0.' additional_kwargs={} response_metadata={'token_usage': {'completion_tokens': 10, 'prompt_tokens': 1510, 'total_tokens': 1520, 'completion_time': 0.081208906, 'prompt_time': 0.055589355, 'queue_time': 0.059135163, 'total_time': 0.136798261}, 'model_name': 'Llama3-70b-8192', 'system_fingerprint': 'fp_2e0feca3c9', 'finish_reason': 'stop', 'logprobs': None} name='math_expert' id='run-d67a136f-66d9-45a6-8631-bb197c1706ba-0' usage_metadata={'input_tokens': 1510, 'output_tokens': 10, 'total_tokens': 1520}\n",
      "content='Transferring back to supervisor' additional_kwargs={} response_metadata={} name='math_expert' id='8bc3d310-f04d-41ef-aade-b2cd4bab42d3' tool_calls=[{'name': 'transfer_back_to_supervisor', 'args': {}, 'id': 'd54cdd9c-f1f1-4676-9f63-058848a4055f', 'type': 'tool_call'}]\n",
      "content='Successfully transferred back to supervisor' name='transfer_back_to_supervisor' id='fecdcbef-4694-42d5-a2c5-27a8d9f6e259' tool_call_id='d54cdd9c-f1f1-4676-9f63-058848a4055f'\n",
      "content='The conversation is complete. The final answer is 45.' additional_kwargs={} response_metadata={'token_usage': {'completion_tokens': 13, 'prompt_tokens': 1421, 'total_tokens': 1434, 'completion_time': 0.122741837, 'prompt_time': 0.053677122, 'queue_time': 0.054854807, 'total_time': 0.176418959}, 'model_name': 'Llama3-70b-8192', 'system_fingerprint': 'fp_2e0feca3c9', 'finish_reason': 'stop', 'logprobs': None} name='supervisor' id='run-27bff686-fbfd-4cb8-8cb9-fb2f924bd5b5-0' usage_metadata={'input_tokens': 1421, 'output_tokens': 13, 'total_tokens': 1434}\n"
     ]
    }
   ],
   "source": [
    "for m in app.invoke(query)[\"messages\"]:\n",
    "    print(m)"
   ]
  },
  {
   "cell_type": "code",
   "execution_count": 48,
   "metadata": {},
   "outputs": [
    {
     "data": {
      "image/png": "[encoded data removed]",
      "text/plain": [
       "<IPython.core.display.Image object>"
      ]
     },
     "metadata": {},
     "output_type": "display_data"
    }
   ],
   "source": [
    "from IPython.display import Image, display\n",
    "display(Image(app.get_graph().draw_mermaid_png()))"
   ]
  }
 ],
 "metadata": {
  "kernelspec": {
   "display_name": "AgenticAiEnv",
   "language": "python",
   "name": "python3"
  },
  "language_info": {
   "codemirror_mode": {
    "name": "ipython",
    "version": 3
   },
   "file_extension": ".py",
   "mimetype": "text/x-python",
   "name": "python",
   "nbconvert_exporter": "python",
   "pygments_lexer": "ipython3",
   "version": "3.12.9"
  }
 },
 "nbformat": 4,
 "nbformat_minor": 2
}
