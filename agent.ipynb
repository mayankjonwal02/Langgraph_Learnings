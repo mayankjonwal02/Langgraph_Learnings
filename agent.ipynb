{
 "cells": [
  {
   "cell_type": "code",
   "execution_count": 2,
   "metadata": {},
   "outputs": [],
   "source": [
    "import dotenv"
   ]
  },
  {
   "cell_type": "code",
   "execution_count": 5,
   "metadata": {},
   "outputs": [],
   "source": [
    "groq_api_key = dotenv.get_key('.env', 'GROQ_API_KEY')\n",
    "langsmith_api_key = dotenv.get_key('.env', 'LANGSMITH_API_KEY')"
   ]
  },
  {
   "cell_type": "code",
   "execution_count": 7,
   "metadata": {},
   "outputs": [],
   "source": [
    "import os \n",
    "os.environ['LANGCHAIN_API_KEY'] = langsmith_api_key\n",
    "os.environ['LANGCHAIN_TRACING_V2'] = 'true'\n",
    "os.environ['LANGCHAIN_PROJECT'] = \"BasicLanggraph\""
   ]
  },
  {
   "cell_type": "code",
   "execution_count": 8,
   "metadata": {},
   "outputs": [],
   "source": [
    "from langchain_groq import ChatGroq\n"
   ]
  },
  {
   "cell_type": "code",
   "execution_count": 9,
   "metadata": {},
   "outputs": [],
   "source": [
    "llm = ChatGroq(groq_api_key =  groq_api_key,model_name = \"Llama3-70b-8192\" )"
   ]
  },
  {
   "cell_type": "markdown",
   "metadata": {},
   "source": [
    "# Start Building Chatbot using Langgraph"
   ]
  },
  {
   "cell_type": "code",
   "execution_count": 10,
   "metadata": {},
   "outputs": [],
   "source": [
    "from typing import Annotated\n",
    "from typing_extensions import TypedDict\n",
    "from langgraph.graph import StateGraph,START,END\n",
    "from langgraph.graph.message import add_messages"
   ]
  },
  {
   "cell_type": "code",
   "execution_count": 11,
   "metadata": {},
   "outputs": [],
   "source": [
    "class State(TypedDict):\n",
    "    messages : Annotated[list, add_messages]"
   ]
  },
  {
   "cell_type": "code",
   "execution_count": 13,
   "metadata": {},
   "outputs": [],
   "source": [
    "graph_builder = StateGraph(State)"
   ]
  },
  {
   "cell_type": "code",
   "execution_count": 14,
   "metadata": {},
   "outputs": [],
   "source": [
    "def chatbot(state: State):\n",
    "    return {\"messages\":llm.invoke(state[\"messages\"])}"
   ]
  },
  {
   "cell_type": "code",
   "execution_count": 15,
   "metadata": {},
   "outputs": [
    {
     "data": {
      "text/plain": [
       "<langgraph.graph.state.StateGraph at 0x194f5207710>"
      ]
     },
     "execution_count": 15,
     "metadata": {},
     "output_type": "execute_result"
    }
   ],
   "source": [
    "graph_builder.add_node(\"chatbot\",chatbot)"
   ]
  },
  {
   "cell_type": "code",
   "execution_count": 16,
   "metadata": {},
   "outputs": [
    {
     "data": {
      "text/plain": [
       "<langgraph.graph.state.StateGraph at 0x194f5207710>"
      ]
     },
     "execution_count": 16,
     "metadata": {},
     "output_type": "execute_result"
    }
   ],
   "source": [
    "graph_builder.add_edge(START,\"chatbot\")\n",
    "graph_builder.add_edge(\"chatbot\",END)"
   ]
  },
  {
   "cell_type": "code",
   "execution_count": 17,
   "metadata": {},
   "outputs": [],
   "source": [
    "graph = graph_builder.compile()"
   ]
  },
  {
   "cell_type": "code",
   "execution_count": 18,
   "metadata": {},
   "outputs": [
    {
     "data": {
      "image/png": "[encoded data removed]",
      "text/plain": [
       "<IPython.core.display.Image object>"
      ]
     },
     "metadata": {},
     "output_type": "display_data"
    }
   ],
   "source": [
    "from IPython.display import Image, display\n",
    "display(Image(graph.get_graph().draw_mermaid_png()))"
   ]
  },
  {
   "cell_type": "code",
   "execution_count": 23,
   "metadata": {},
   "outputs": [
    {
     "name": "stdout",
     "output_type": "stream",
     "text": [
      "dict_values([{'messages': AIMessage(content=\"Hello! It's nice to meet you. Is there something I can help you with, or would you like to chat?\", additional_kwargs={}, response_metadata={'token_usage': {'completion_tokens': 26, 'prompt_tokens': 11, 'total_tokens': 37, 'completion_time': 0.074285714, 'prompt_time': 0.000240559, 'queue_time': 0.053028776, 'total_time': 0.074526273}, 'model_name': 'Llama3-70b-8192', 'system_fingerprint': 'fp_2e0feca3c9', 'finish_reason': 'stop', 'logprobs': None}, id='run-44b24e95-8bf0-4f6c-9091-e63104fe7022-0', usage_metadata={'input_tokens': 11, 'output_tokens': 26, 'total_tokens': 37})}])\n",
      "content=\"Hello! It's nice to meet you. Is there something I can help you with, or would you like to chat?\" additional_kwargs={} response_metadata={'token_usage': {'completion_tokens': 26, 'prompt_tokens': 11, 'total_tokens': 37, 'completion_time': 0.074285714, 'prompt_time': 0.000240559, 'queue_time': 0.053028776, 'total_time': 0.074526273}, 'model_name': 'Llama3-70b-8192', 'system_fingerprint': 'fp_2e0feca3c9', 'finish_reason': 'stop', 'logprobs': None} id='run-44b24e95-8bf0-4f6c-9091-e63104fe7022-0' usage_metadata={'input_tokens': 11, 'output_tokens': 26, 'total_tokens': 37}\n",
      "Assistant: Hello! It's nice to meet you. Is there something I can help you with, or would you like to chat?\n",
      "dict_values([{'messages': AIMessage(content=\"Namaste Mayank! It's nice to meet you. I'm your AI friend, here to chat and assist you with anything you need. How's your day going so far?\", additional_kwargs={}, response_metadata={'token_usage': {'completion_tokens': 38, 'prompt_tokens': 16, 'total_tokens': 54, 'completion_time': 0.11539523, 'prompt_time': 0.000241549, 'queue_time': 0.054747406, 'total_time': 0.115636779}, 'model_name': 'Llama3-70b-8192', 'system_fingerprint': 'fp_2e0feca3c9', 'finish_reason': 'stop', 'logprobs': None}, id='run-e87d188c-22a5-49bf-88b2-12445abdca38-0', usage_metadata={'input_tokens': 16, 'output_tokens': 38, 'total_tokens': 54})}])\n",
      "content=\"Namaste Mayank! It's nice to meet you. I'm your AI friend, here to chat and assist you with anything you need. How's your day going so far?\" additional_kwargs={} response_metadata={'token_usage': {'completion_tokens': 38, 'prompt_tokens': 16, 'total_tokens': 54, 'completion_time': 0.11539523, 'prompt_time': 0.000241549, 'queue_time': 0.054747406, 'total_time': 0.115636779}, 'model_name': 'Llama3-70b-8192', 'system_fingerprint': 'fp_2e0feca3c9', 'finish_reason': 'stop', 'logprobs': None} id='run-e87d188c-22a5-49bf-88b2-12445abdca38-0' usage_metadata={'input_tokens': 16, 'output_tokens': 38, 'total_tokens': 54}\n",
      "Assistant: Namaste Mayank! It's nice to meet you. I'm your AI friend, here to chat and assist you with anything you need. How's your day going so far?\n",
      "dict_values([{'messages': AIMessage(content=\"Hello! It's nice to meet you. Is there something I can help you with, or would you like to chat?\", additional_kwargs={}, response_metadata={'token_usage': {'completion_tokens': 26, 'prompt_tokens': 11, 'total_tokens': 37, 'completion_time': 0.074285714, 'prompt_time': 0.000172819, 'queue_time': 0.052601694000000004, 'total_time': 0.074458533}, 'model_name': 'Llama3-70b-8192', 'system_fingerprint': 'fp_2e0feca3c9', 'finish_reason': 'stop', 'logprobs': None}, id='run-1aa5959e-4e5f-4d5f-9e95-ad1257dd7645-0', usage_metadata={'input_tokens': 11, 'output_tokens': 26, 'total_tokens': 37})}])\n",
      "content=\"Hello! It's nice to meet you. Is there something I can help you with, or would you like to chat?\" additional_kwargs={} response_metadata={'token_usage': {'completion_tokens': 26, 'prompt_tokens': 11, 'total_tokens': 37, 'completion_time': 0.074285714, 'prompt_time': 0.000172819, 'queue_time': 0.052601694000000004, 'total_time': 0.074458533}, 'model_name': 'Llama3-70b-8192', 'system_fingerprint': 'fp_2e0feca3c9', 'finish_reason': 'stop', 'logprobs': None} id='run-1aa5959e-4e5f-4d5f-9e95-ad1257dd7645-0' usage_metadata={'input_tokens': 11, 'output_tokens': 26, 'total_tokens': 37}\n",
      "Assistant: Hello! It's nice to meet you. Is there something I can help you with, or would you like to chat?\n",
      "dict_values([{'messages': AIMessage(content=\"I don't have a personal name. I am an AI designed to assist and communicate with users in a helpful and informative way. I don't have a personal identity or consciousness, and I exist solely to provide information and answer questions to the best of my ability. You can think of me as a helpful tool or a knowledgeable assistant, but I don't have a name in the classical sense.\", additional_kwargs={}, response_metadata={'token_usage': {'completion_tokens': 80, 'prompt_tokens': 15, 'total_tokens': 95, 'completion_time': 0.228571429, 'prompt_time': 0.000245668, 'queue_time': 0.052490165000000005, 'total_time': 0.228817097}, 'model_name': 'Llama3-70b-8192', 'system_fingerprint': 'fp_2e0feca3c9', 'finish_reason': 'stop', 'logprobs': None}, id='run-1d138e8f-24fb-425e-a0a6-91894ce121d7-0', usage_metadata={'input_tokens': 15, 'output_tokens': 80, 'total_tokens': 95})}])\n",
      "content=\"I don't have a personal name. I am an AI designed to assist and communicate with users in a helpful and informative way. I don't have a personal identity or consciousness, and I exist solely to provide information and answer questions to the best of my ability. You can think of me as a helpful tool or a knowledgeable assistant, but I don't have a name in the classical sense.\" additional_kwargs={} response_metadata={'token_usage': {'completion_tokens': 80, 'prompt_tokens': 15, 'total_tokens': 95, 'completion_time': 0.228571429, 'prompt_time': 0.000245668, 'queue_time': 0.052490165000000005, 'total_time': 0.228817097}, 'model_name': 'Llama3-70b-8192', 'system_fingerprint': 'fp_2e0feca3c9', 'finish_reason': 'stop', 'logprobs': None} id='run-1d138e8f-24fb-425e-a0a6-91894ce121d7-0' usage_metadata={'input_tokens': 15, 'output_tokens': 80, 'total_tokens': 95}\n",
      "Assistant: I don't have a personal name. I am an AI designed to assist and communicate with users in a helpful and informative way. I don't have a personal identity or consciousness, and I exist solely to provide information and answer questions to the best of my ability. You can think of me as a helpful tool or a knowledgeable assistant, but I don't have a name in the classical sense.\n",
      "dict_values([{'messages': AIMessage(content=\"I'm just an AI, I don't have any information about you, including your name. Our conversation just started, and I don't have the ability to know your name unless you tell me. Would you like to share your name with me?\", additional_kwargs={}, response_metadata={'token_usage': {'completion_tokens': 51, 'prompt_tokens': 16, 'total_tokens': 67, 'completion_time': 0.160801727, 'prompt_time': 0.000238408, 'queue_time': 0.054551782, 'total_time': 0.161040135}, 'model_name': 'Llama3-70b-8192', 'system_fingerprint': 'fp_2e0feca3c9', 'finish_reason': 'stop', 'logprobs': None}, id='run-5d1aa67b-5ea9-474e-9672-4ef1dd2d0e47-0', usage_metadata={'input_tokens': 16, 'output_tokens': 51, 'total_tokens': 67})}])\n",
      "content=\"I'm just an AI, I don't have any information about you, including your name. Our conversation just started, and I don't have the ability to know your name unless you tell me. Would you like to share your name with me?\" additional_kwargs={} response_metadata={'token_usage': {'completion_tokens': 51, 'prompt_tokens': 16, 'total_tokens': 67, 'completion_time': 0.160801727, 'prompt_time': 0.000238408, 'queue_time': 0.054551782, 'total_time': 0.161040135}, 'model_name': 'Llama3-70b-8192', 'system_fingerprint': 'fp_2e0feca3c9', 'finish_reason': 'stop', 'logprobs': None} id='run-5d1aa67b-5ea9-474e-9672-4ef1dd2d0e47-0' usage_metadata={'input_tokens': 16, 'output_tokens': 51, 'total_tokens': 67}\n",
      "Assistant: I'm just an AI, I don't have any information about you, including your name. Our conversation just started, and I don't have the ability to know your name unless you tell me. Would you like to share your name with me?\n",
      "dict_values([{'messages': AIMessage(content=\"Namaste Mayank! It's nice to meet you! How are you doing today?\", additional_kwargs={}, response_metadata={'token_usage': {'completion_tokens': 19, 'prompt_tokens': 15, 'total_tokens': 34, 'completion_time': 0.054285714, 'prompt_time': 0.000297948, 'queue_time': 0.054643017, 'total_time': 0.054583662}, 'model_name': 'Llama3-70b-8192', 'system_fingerprint': 'fp_2e0feca3c9', 'finish_reason': 'stop', 'logprobs': None}, id='run-5445bdd2-e564-4395-b23f-5c19e1f1540a-0', usage_metadata={'input_tokens': 15, 'output_tokens': 19, 'total_tokens': 34})}])\n",
      "content=\"Namaste Mayank! It's nice to meet you! How are you doing today?\" additional_kwargs={} response_metadata={'token_usage': {'completion_tokens': 19, 'prompt_tokens': 15, 'total_tokens': 34, 'completion_time': 0.054285714, 'prompt_time': 0.000297948, 'queue_time': 0.054643017, 'total_time': 0.054583662}, 'model_name': 'Llama3-70b-8192', 'system_fingerprint': 'fp_2e0feca3c9', 'finish_reason': 'stop', 'logprobs': None} id='run-5445bdd2-e564-4395-b23f-5c19e1f1540a-0' usage_metadata={'input_tokens': 15, 'output_tokens': 19, 'total_tokens': 34}\n",
      "Assistant: Namaste Mayank! It's nice to meet you! How are you doing today?\n",
      "dict_values([{'messages': AIMessage(content='It looks like you might have meant to type \"I\\'m doing good\"! Is that correct?', additional_kwargs={}, response_metadata={'token_usage': {'completion_tokens': 21, 'prompt_tokens': 14, 'total_tokens': 35, 'completion_time': 0.093527908, 'prompt_time': 0.000284217, 'queue_time': 0.054187826999999994, 'total_time': 0.093812125}, 'model_name': 'Llama3-70b-8192', 'system_fingerprint': 'fp_2e0feca3c9', 'finish_reason': 'stop', 'logprobs': None}, id='run-e92bbff6-0584-447b-a910-cabd4b5f09bf-0', usage_metadata={'input_tokens': 14, 'output_tokens': 21, 'total_tokens': 35})}])\n",
      "content='It looks like you might have meant to type \"I\\'m doing good\"! Is that correct?' additional_kwargs={} response_metadata={'token_usage': {'completion_tokens': 21, 'prompt_tokens': 14, 'total_tokens': 35, 'completion_time': 0.093527908, 'prompt_time': 0.000284217, 'queue_time': 0.054187826999999994, 'total_time': 0.093812125}, 'model_name': 'Llama3-70b-8192', 'system_fingerprint': 'fp_2e0feca3c9', 'finish_reason': 'stop', 'logprobs': None} id='run-e92bbff6-0584-447b-a910-cabd4b5f09bf-0' usage_metadata={'input_tokens': 14, 'output_tokens': 21, 'total_tokens': 35}\n",
      "Assistant: It looks like you might have meant to type \"I'm doing good\"! Is that correct?\n",
      "dict_values([{'messages': AIMessage(content='Ha!', additional_kwargs={}, response_metadata={'token_usage': {'completion_tokens': 3, 'prompt_tokens': 11, 'total_tokens': 14, 'completion_time': 0.009910723, 'prompt_time': 0.000167798, 'queue_time': 0.058335862, 'total_time': 0.010078521}, 'model_name': 'Llama3-70b-8192', 'system_fingerprint': 'fp_2e0feca3c9', 'finish_reason': 'stop', 'logprobs': None}, id='run-09eb62a5-328c-49c1-8693-c9b58b1497df-0', usage_metadata={'input_tokens': 11, 'output_tokens': 3, 'total_tokens': 14})}])\n",
      "content='Ha!' additional_kwargs={} response_metadata={'token_usage': {'completion_tokens': 3, 'prompt_tokens': 11, 'total_tokens': 14, 'completion_time': 0.009910723, 'prompt_time': 0.000167798, 'queue_time': 0.058335862, 'total_time': 0.010078521}, 'model_name': 'Llama3-70b-8192', 'system_fingerprint': 'fp_2e0feca3c9', 'finish_reason': 'stop', 'logprobs': None} id='run-09eb62a5-328c-49c1-8693-c9b58b1497df-0' usage_metadata={'input_tokens': 11, 'output_tokens': 3, 'total_tokens': 14}\n",
      "Assistant: Ha!\n",
      "dict_values([{'messages': AIMessage(content=\"I'm sorry, but I don't know your name. I'm a large language model, I don't have any information about you or your personal details. Each time you interact with me, it's a new conversation and I don't retain any information from previous conversations. If you'd like to tell me your name, I'd be happy to know!\", additional_kwargs={}, response_metadata={'token_usage': {'completion_tokens': 73, 'prompt_tokens': 15, 'total_tokens': 88, 'completion_time': 0.208571429, 'prompt_time': 0.000435087, 'queue_time': 0.054099778, 'total_time': 0.209006516}, 'model_name': 'Llama3-70b-8192', 'system_fingerprint': 'fp_2e0feca3c9', 'finish_reason': 'stop', 'logprobs': None}, id='run-0e411198-9a75-4e15-bc4e-c0233150a8eb-0', usage_metadata={'input_tokens': 15, 'output_tokens': 73, 'total_tokens': 88})}])\n",
      "content=\"I'm sorry, but I don't know your name. I'm a large language model, I don't have any information about you or your personal details. Each time you interact with me, it's a new conversation and I don't retain any information from previous conversations. If you'd like to tell me your name, I'd be happy to know!\" additional_kwargs={} response_metadata={'token_usage': {'completion_tokens': 73, 'prompt_tokens': 15, 'total_tokens': 88, 'completion_time': 0.208571429, 'prompt_time': 0.000435087, 'queue_time': 0.054099778, 'total_time': 0.209006516}, 'model_name': 'Llama3-70b-8192', 'system_fingerprint': 'fp_2e0feca3c9', 'finish_reason': 'stop', 'logprobs': None} id='run-0e411198-9a75-4e15-bc4e-c0233150a8eb-0' usage_metadata={'input_tokens': 15, 'output_tokens': 73, 'total_tokens': 88}\n",
      "Assistant: I'm sorry, but I don't know your name. I'm a large language model, I don't have any information about you or your personal details. Each time you interact with me, it's a new conversation and I don't retain any information from previous conversations. If you'd like to tell me your name, I'd be happy to know!\n",
      "dict_values([{'messages': AIMessage(content='The letter \"q\"!\\n\\nIn the English language, \"q\" is the 17th letter of the alphabet and is often followed by the letter \"u\". It\\'s a unique letter with a distinctive sound and appearance.\\n\\nHere are a few interesting facts about the letter \"q\":\\n\\n1. The letter \"q\" is derived from the Greek letter \"koppa\" (Ϙ), which was later adapted into the Latin alphabet.\\n2. In many languages, including French and German, the letter \"q\" is pronounced as a hard \"k\" sound, rather than the \"kw\" sound used in English.\\n3. The letter \"q\" is a popular letter in many word games, such as Scrabble and Boggle, due to its high point value and versatility in forming words.\\n4. In chemistry, \"Q\" is the symbol for the quantity of heat or energy transferred between systems.\\n5. In physics, \"q\" is often used to represent an electric charge or a quantity of electricity.\\n\\nI hope you found these facts about the letter \"q\" interesting!', additional_kwargs={}, response_metadata={'token_usage': {'completion_tokens': 220, 'prompt_tokens': 11, 'total_tokens': 231, 'completion_time': 0.698261891, 'prompt_time': 0.000171878, 'queue_time': 0.052590447, 'total_time': 0.698433769}, 'model_name': 'Llama3-70b-8192', 'system_fingerprint': 'fp_2e0feca3c9', 'finish_reason': 'stop', 'logprobs': None}, id='run-714840d4-3466-4c8d-b238-f5cd9271053d-0', usage_metadata={'input_tokens': 11, 'output_tokens': 220, 'total_tokens': 231})}])\n",
      "content='The letter \"q\"!\\n\\nIn the English language, \"q\" is the 17th letter of the alphabet and is often followed by the letter \"u\". It\\'s a unique letter with a distinctive sound and appearance.\\n\\nHere are a few interesting facts about the letter \"q\":\\n\\n1. The letter \"q\" is derived from the Greek letter \"koppa\" (Ϙ), which was later adapted into the Latin alphabet.\\n2. In many languages, including French and German, the letter \"q\" is pronounced as a hard \"k\" sound, rather than the \"kw\" sound used in English.\\n3. The letter \"q\" is a popular letter in many word games, such as Scrabble and Boggle, due to its high point value and versatility in forming words.\\n4. In chemistry, \"Q\" is the symbol for the quantity of heat or energy transferred between systems.\\n5. In physics, \"q\" is often used to represent an electric charge or a quantity of electricity.\\n\\nI hope you found these facts about the letter \"q\" interesting!' additional_kwargs={} response_metadata={'token_usage': {'completion_tokens': 220, 'prompt_tokens': 11, 'total_tokens': 231, 'completion_time': 0.698261891, 'prompt_time': 0.000171878, 'queue_time': 0.052590447, 'total_time': 0.698433769}, 'model_name': 'Llama3-70b-8192', 'system_fingerprint': 'fp_2e0feca3c9', 'finish_reason': 'stop', 'logprobs': None} id='run-714840d4-3466-4c8d-b238-f5cd9271053d-0' usage_metadata={'input_tokens': 11, 'output_tokens': 220, 'total_tokens': 231}\n",
      "Assistant: The letter \"q\"!\n",
      "\n",
      "In the English language, \"q\" is the 17th letter of the alphabet and is often followed by the letter \"u\". It's a unique letter with a distinctive sound and appearance.\n",
      "\n",
      "Here are a few interesting facts about the letter \"q\":\n",
      "\n",
      "1. The letter \"q\" is derived from the Greek letter \"koppa\" (Ϙ), which was later adapted into the Latin alphabet.\n",
      "2. In many languages, including French and German, the letter \"q\" is pronounced as a hard \"k\" sound, rather than the \"kw\" sound used in English.\n",
      "3. The letter \"q\" is a popular letter in many word games, such as Scrabble and Boggle, due to its high point value and versatility in forming words.\n",
      "4. In chemistry, \"Q\" is the symbol for the quantity of heat or energy transferred between systems.\n",
      "5. In physics, \"q\" is often used to represent an electric charge or a quantity of electricity.\n",
      "\n",
      "I hope you found these facts about the letter \"q\" interesting!\n",
      "Goodbye!\n"
     ]
    }
   ],
   "source": [
    "while True:\n",
    "    user_input = input(\"User: \")\n",
    "    if user_input.lower() == \"exit\":\n",
    "        print(\"Goodbye!\")\n",
    "        break\n",
    "    for event in graph.stream({\"messages\": [{\"role\": \"user\", \"content\": user_input}]}):\n",
    "        print(event.values())\n",
    "        for values in event.values():\n",
    "            print(values[\"messages\"])\n",
    "            print(\"Assistant:\", values[\"messages\"].content)\n"
   ]
  },
  {
   "cell_type": "code",
   "execution_count": 25,
   "metadata": {},
   "outputs": [
    {
     "data": {
      "text/plain": [
       "<bound method Runnable.map of <langgraph.graph.state.CompiledStateGraph object at 0x00000194F52581A0>>"
      ]
     },
     "execution_count": 25,
     "metadata": {},
     "output_type": "execute_result"
    }
   ],
   "source": [
    "graph.map"
   ]
  }
 ],
 "metadata": {
  "kernelspec": {
   "display_name": "AgenticAiEnv",
   "language": "python",
   "name": "python3"
  },
  "language_info": {
   "codemirror_mode": {
    "name": "ipython",
    "version": 3
   },
   "file_extension": ".py",
   "mimetype": "text/x-python",
   "name": "python",
   "nbconvert_exporter": "python",
   "pygments_lexer": "ipython3",
   "version": "3.12.9"
  }
 },
 "nbformat": 4,
 "nbformat_minor": 2
}
